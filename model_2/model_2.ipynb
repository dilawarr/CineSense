{
 "cells": [
  {
   "cell_type": "markdown",
   "metadata": {},
   "source": [
    "Importing Dependencies"
   ]
  },
  {
   "cell_type": "code",
   "execution_count": 1,
   "metadata": {},
   "outputs": [],
   "source": [
    "import numpy as np\n",
    "import pandas as pd\n",
    "import re\n",
    "from nltk.corpus import stopwords\n",
    "from nltk.stem.porter import PorterStemmer\n",
    "from sklearn.feature_extraction.text import TfidfVectorizer\n",
    "from sklearn.model_selection import train_test_split\n",
    "from sklearn.ensemble import GradientBoostingClassifier\n",
    "from sklearn.metrics import confusion_matrix\n",
    "from sklearn.metrics import accuracy_score\n",
    "from sklearn.metrics import precision_score\n",
    "from sklearn.metrics import recall_score\n",
    "import pickle\n",
    "import matplotlib.pyplot as plt\n",
    "from sklearn.metrics import confusion_matrix, ConfusionMatrixDisplay\n"
   ]
  },
  {
   "cell_type": "code",
   "execution_count": 2,
   "metadata": {},
   "outputs": [
    {
     "name": "stderr",
     "output_type": "stream",
     "text": [
      "[nltk_data] Downloading package stopwords to\n",
      "[nltk_data]     C:\\Users\\dilaw\\AppData\\Roaming\\nltk_data...\n",
      "[nltk_data]   Package stopwords is already up-to-date!\n"
     ]
    },
    {
     "data": {
      "text/plain": [
       "True"
      ]
     },
     "execution_count": 2,
     "metadata": {},
     "output_type": "execute_result"
    }
   ],
   "source": [
    "import nltk\n",
    "nltk.download('stopwords')"
   ]
  },
  {
   "cell_type": "code",
   "execution_count": 3,
   "metadata": {},
   "outputs": [
    {
     "name": "stdout",
     "output_type": "stream",
     "text": [
      "['i', 'me', 'my', 'myself', 'we', 'our', 'ours', 'ourselves', 'you', \"you're\", \"you've\", \"you'll\", \"you'd\", 'your', 'yours', 'yourself', 'yourselves', 'he', 'him', 'his', 'himself', 'she', \"she's\", 'her', 'hers', 'herself', 'it', \"it's\", 'its', 'itself', 'they', 'them', 'their', 'theirs', 'themselves', 'what', 'which', 'who', 'whom', 'this', 'that', \"that'll\", 'these', 'those', 'am', 'is', 'are', 'was', 'were', 'be', 'been', 'being', 'have', 'has', 'had', 'having', 'do', 'does', 'did', 'doing', 'a', 'an', 'the', 'and', 'but', 'if', 'or', 'because', 'as', 'until', 'while', 'of', 'at', 'by', 'for', 'with', 'about', 'against', 'between', 'into', 'through', 'during', 'before', 'after', 'above', 'below', 'to', 'from', 'up', 'down', 'in', 'out', 'on', 'off', 'over', 'under', 'again', 'further', 'then', 'once', 'here', 'there', 'when', 'where', 'why', 'how', 'all', 'any', 'both', 'each', 'few', 'more', 'most', 'other', 'some', 'such', 'no', 'nor', 'not', 'only', 'own', 'same', 'so', 'than', 'too', 'very', 's', 't', 'can', 'will', 'just', 'don', \"don't\", 'should', \"should've\", 'now', 'd', 'll', 'm', 'o', 're', 've', 'y', 'ain', 'aren', \"aren't\", 'couldn', \"couldn't\", 'didn', \"didn't\", 'doesn', \"doesn't\", 'hadn', \"hadn't\", 'hasn', \"hasn't\", 'haven', \"haven't\", 'isn', \"isn't\", 'ma', 'mightn', \"mightn't\", 'mustn', \"mustn't\", 'needn', \"needn't\", 'shan', \"shan't\", 'shouldn', \"shouldn't\", 'wasn', \"wasn't\", 'weren', \"weren't\", 'won', \"won't\", 'wouldn', \"wouldn't\"]\n"
     ]
    }
   ],
   "source": [
    "print(stopwords.words('english'))"
   ]
  },
  {
   "cell_type": "markdown",
   "metadata": {},
   "source": [
    "Data Processing"
   ]
  },
  {
   "cell_type": "code",
   "execution_count": 4,
   "metadata": {},
   "outputs": [],
   "source": [
    "imdb_data = pd.read_csv('dataset.csv')"
   ]
  },
  {
   "cell_type": "code",
   "execution_count": 5,
   "metadata": {},
   "outputs": [
    {
     "data": {
      "text/plain": [
       "(50000, 4)"
      ]
     },
     "execution_count": 5,
     "metadata": {},
     "output_type": "execute_result"
    }
   ],
   "source": [
    "imdb_data.shape"
   ]
  },
  {
   "cell_type": "code",
   "execution_count": 6,
   "metadata": {},
   "outputs": [
    {
     "data": {
      "text/html": [
       "<div>\n",
       "<style scoped>\n",
       "    .dataframe tbody tr th:only-of-type {\n",
       "        vertical-align: middle;\n",
       "    }\n",
       "\n",
       "    .dataframe tbody tr th {\n",
       "        vertical-align: top;\n",
       "    }\n",
       "\n",
       "    .dataframe thead th {\n",
       "        text-align: right;\n",
       "    }\n",
       "</style>\n",
       "<table border=\"1\" class=\"dataframe\">\n",
       "  <thead>\n",
       "    <tr style=\"text-align: right;\">\n",
       "      <th></th>\n",
       "      <th>index</th>\n",
       "      <th>review</th>\n",
       "      <th>sentiment</th>\n",
       "      <th>stemmed_content</th>\n",
       "    </tr>\n",
       "  </thead>\n",
       "  <tbody>\n",
       "    <tr>\n",
       "      <th>0</th>\n",
       "      <td>0</td>\n",
       "      <td>One of the other reviewers has mentioned that ...</td>\n",
       "      <td>1</td>\n",
       "      <td>one review mention watch oz episod hook right ...</td>\n",
       "    </tr>\n",
       "    <tr>\n",
       "      <th>1</th>\n",
       "      <td>1</td>\n",
       "      <td>A wonderful little production. &lt;br /&gt;&lt;br /&gt;The...</td>\n",
       "      <td>1</td>\n",
       "      <td>wonder littl product br br film techniqu unass...</td>\n",
       "    </tr>\n",
       "    <tr>\n",
       "      <th>2</th>\n",
       "      <td>2</td>\n",
       "      <td>I thought this was a wonderful way to spend ti...</td>\n",
       "      <td>1</td>\n",
       "      <td>thought wonder way spend time hot summer weeke...</td>\n",
       "    </tr>\n",
       "    <tr>\n",
       "      <th>3</th>\n",
       "      <td>3</td>\n",
       "      <td>Basically there's a family where a little boy ...</td>\n",
       "      <td>0</td>\n",
       "      <td>basic famili littl boy jake think zombi closet...</td>\n",
       "    </tr>\n",
       "    <tr>\n",
       "      <th>4</th>\n",
       "      <td>4</td>\n",
       "      <td>Petter Mattei's \"Love in the Time of Money\" is...</td>\n",
       "      <td>1</td>\n",
       "      <td>petter mattei love time money visual stun film...</td>\n",
       "    </tr>\n",
       "  </tbody>\n",
       "</table>\n",
       "</div>"
      ],
      "text/plain": [
       "   index                                             review  sentiment  \\\n",
       "0      0  One of the other reviewers has mentioned that ...          1   \n",
       "1      1  A wonderful little production. <br /><br />The...          1   \n",
       "2      2  I thought this was a wonderful way to spend ti...          1   \n",
       "3      3  Basically there's a family where a little boy ...          0   \n",
       "4      4  Petter Mattei's \"Love in the Time of Money\" is...          1   \n",
       "\n",
       "                                     stemmed_content  \n",
       "0  one review mention watch oz episod hook right ...  \n",
       "1  wonder littl product br br film techniqu unass...  \n",
       "2  thought wonder way spend time hot summer weeke...  \n",
       "3  basic famili littl boy jake think zombi closet...  \n",
       "4  petter mattei love time money visual stun film...  "
      ]
     },
     "execution_count": 6,
     "metadata": {},
     "output_type": "execute_result"
    }
   ],
   "source": [
    "imdb_data.head()"
   ]
  },
  {
   "cell_type": "markdown",
   "metadata": {},
   "source": [
    "Stemming"
   ]
  },
  {
   "cell_type": "code",
   "execution_count": 7,
   "metadata": {},
   "outputs": [],
   "source": [
    "port_stem = PorterStemmer()\n"
   ]
  },
  {
   "cell_type": "code",
   "execution_count": 8,
   "metadata": {},
   "outputs": [],
   "source": [
    "def stemming(content):\n",
    "    stemmed_content = re.sub('[^a-zA-Z]', ' ', content)\n",
    "    stemmed_content = stemmed_content.lower()\n",
    "    stemmed_content = stemmed_content.split()\n",
    "    stemmed_content = [port_stem.stem(word) for word in stemmed_content if not word in stopwords.words('english')]\n",
    "    stemmed_content = ' '.join(stemmed_content)\n",
    "\n",
    "    return stemmed_content "
   ]
  },
  {
   "cell_type": "code",
   "execution_count": 9,
   "metadata": {},
   "outputs": [],
   "source": [
    "# imdb_data['stemmed_content'] = imdb_data['review'].apply(stemming)"
   ]
  },
  {
   "cell_type": "code",
   "execution_count": 10,
   "metadata": {},
   "outputs": [],
   "source": [
    "# imdb_data.to_csv('dataset.csv')\n",
    "\n",
    "# saving processed dataset"
   ]
  },
  {
   "cell_type": "code",
   "execution_count": 11,
   "metadata": {},
   "outputs": [
    {
     "data": {
      "text/html": [
       "<div>\n",
       "<style scoped>\n",
       "    .dataframe tbody tr th:only-of-type {\n",
       "        vertical-align: middle;\n",
       "    }\n",
       "\n",
       "    .dataframe tbody tr th {\n",
       "        vertical-align: top;\n",
       "    }\n",
       "\n",
       "    .dataframe thead th {\n",
       "        text-align: right;\n",
       "    }\n",
       "</style>\n",
       "<table border=\"1\" class=\"dataframe\">\n",
       "  <thead>\n",
       "    <tr style=\"text-align: right;\">\n",
       "      <th></th>\n",
       "      <th>index</th>\n",
       "      <th>review</th>\n",
       "      <th>sentiment</th>\n",
       "      <th>stemmed_content</th>\n",
       "    </tr>\n",
       "  </thead>\n",
       "  <tbody>\n",
       "    <tr>\n",
       "      <th>0</th>\n",
       "      <td>0</td>\n",
       "      <td>One of the other reviewers has mentioned that ...</td>\n",
       "      <td>1</td>\n",
       "      <td>one review mention watch oz episod hook right ...</td>\n",
       "    </tr>\n",
       "    <tr>\n",
       "      <th>1</th>\n",
       "      <td>1</td>\n",
       "      <td>A wonderful little production. &lt;br /&gt;&lt;br /&gt;The...</td>\n",
       "      <td>1</td>\n",
       "      <td>wonder littl product br br film techniqu unass...</td>\n",
       "    </tr>\n",
       "    <tr>\n",
       "      <th>2</th>\n",
       "      <td>2</td>\n",
       "      <td>I thought this was a wonderful way to spend ti...</td>\n",
       "      <td>1</td>\n",
       "      <td>thought wonder way spend time hot summer weeke...</td>\n",
       "    </tr>\n",
       "    <tr>\n",
       "      <th>3</th>\n",
       "      <td>3</td>\n",
       "      <td>Basically there's a family where a little boy ...</td>\n",
       "      <td>0</td>\n",
       "      <td>basic famili littl boy jake think zombi closet...</td>\n",
       "    </tr>\n",
       "    <tr>\n",
       "      <th>4</th>\n",
       "      <td>4</td>\n",
       "      <td>Petter Mattei's \"Love in the Time of Money\" is...</td>\n",
       "      <td>1</td>\n",
       "      <td>petter mattei love time money visual stun film...</td>\n",
       "    </tr>\n",
       "  </tbody>\n",
       "</table>\n",
       "</div>"
      ],
      "text/plain": [
       "   index                                             review  sentiment  \\\n",
       "0      0  One of the other reviewers has mentioned that ...          1   \n",
       "1      1  A wonderful little production. <br /><br />The...          1   \n",
       "2      2  I thought this was a wonderful way to spend ti...          1   \n",
       "3      3  Basically there's a family where a little boy ...          0   \n",
       "4      4  Petter Mattei's \"Love in the Time of Money\" is...          1   \n",
       "\n",
       "                                     stemmed_content  \n",
       "0  one review mention watch oz episod hook right ...  \n",
       "1  wonder littl product br br film techniqu unass...  \n",
       "2  thought wonder way spend time hot summer weeke...  \n",
       "3  basic famili littl boy jake think zombi closet...  \n",
       "4  petter mattei love time money visual stun film...  "
      ]
     },
     "execution_count": 11,
     "metadata": {},
     "output_type": "execute_result"
    }
   ],
   "source": [
    "imdb_data.head()"
   ]
  },
  {
   "cell_type": "code",
   "execution_count": 12,
   "metadata": {},
   "outputs": [
    {
     "name": "stdout",
     "output_type": "stream",
     "text": [
      "0        one review mention watch oz episod hook right ...\n",
      "1        wonder littl product br br film techniqu unass...\n",
      "2        thought wonder way spend time hot summer weeke...\n",
      "3        basic famili littl boy jake think zombi closet...\n",
      "4        petter mattei love time money visual stun film...\n",
      "                               ...                        \n",
      "49995    thought movi right good job creativ origin fir...\n",
      "49996    bad plot bad dialogu bad act idiot direct anno...\n",
      "49997    cathol taught parochi elementari school nun ta...\n",
      "49998    go disagre previou comment side maltin one sec...\n",
      "49999    one expect star trek movi high art fan expect ...\n",
      "Name: stemmed_content, Length: 50000, dtype: object\n"
     ]
    }
   ],
   "source": [
    "print(imdb_data['stemmed_content'])"
   ]
  },
  {
   "cell_type": "code",
   "execution_count": 13,
   "metadata": {},
   "outputs": [
    {
     "name": "stdout",
     "output_type": "stream",
     "text": [
      "0        1\n",
      "1        1\n",
      "2        1\n",
      "3        0\n",
      "4        1\n",
      "        ..\n",
      "49995    1\n",
      "49996    0\n",
      "49997    0\n",
      "49998    0\n",
      "49999    0\n",
      "Name: sentiment, Length: 50000, dtype: int64\n"
     ]
    }
   ],
   "source": [
    "print(imdb_data['sentiment'])"
   ]
  },
  {
   "cell_type": "code",
   "execution_count": 14,
   "metadata": {},
   "outputs": [],
   "source": [
    "X = imdb_data['stemmed_content'].values\n",
    "Y = imdb_data['sentiment'].values"
   ]
  },
  {
   "cell_type": "code",
   "execution_count": 15,
   "metadata": {},
   "outputs": [
    {
     "name": "stdout",
     "output_type": "stream",
     "text": [
      "['one review mention watch oz episod hook right exactli happen br br first thing struck oz brutal unflinch scene violenc set right word go trust show faint heart timid show pull punch regard drug sex violenc hardcor classic use word br br call oz nicknam given oswald maximum secur state penitentari focus mainli emerald citi experiment section prison cell glass front face inward privaci high agenda em citi home mani aryan muslim gangsta latino christian italian irish scuffl death stare dodgi deal shadi agreement never far away br br would say main appeal show due fact goe show dare forget pretti pictur paint mainstream audienc forget charm forget romanc oz mess around first episod ever saw struck nasti surreal say readi watch develop tast oz got accustom high level graphic violenc violenc injustic crook guard sold nickel inmat kill order get away well manner middl class inmat turn prison bitch due lack street skill prison experi watch oz may becom comfort uncomfort view that get touch darker side'\n",
      " 'wonder littl product br br film techniqu unassum old time bbc fashion give comfort sometim discomfort sens realism entir piec br br actor extrem well chosen michael sheen got polari voic pat truli see seamless edit guid refer william diari entri well worth watch terrificli written perform piec master product one great master comedi life br br realism realli come home littl thing fantasi guard rather use tradit dream techniqu remain solid disappear play knowledg sens particularli scene concern orton halliwel set particularli flat halliwel mural decor everi surfac terribl well done'\n",
      " 'thought wonder way spend time hot summer weekend sit air condit theater watch light heart comedi plot simplist dialogu witti charact likabl even well bread suspect serial killer may disappoint realiz match point risk addict thought proof woodi allen still fulli control style mani us grown love br br laugh one woodi comedi year dare say decad never impress scarlet johanson manag tone sexi imag jump right averag spirit young woman br br may crown jewel career wittier devil wear prada interest superman great comedi go see friend'\n",
      " ...\n",
      " 'cathol taught parochi elementari school nun taught jesuit priest high school colleg still practic cathol would consid good cathol church eye believ certain thing act certain way church tell br br back movi bad two peopl kill nun suppos satir embodi femal religi figurehead comedi satir done well act dian keaton never saw play differ movi may good br br first thought gun might fake first shoot plan femal lead four former student attempt demonstr sister mari emot intellectu bigotri faith turn bullet real stori tragedi tragedi loss life besid two former student live abort babi life student mom tragedi dogmat author love peopl tragedi organ religion replac true faith god wrong today islam yesterday judaism christian'\n",
      " 'go disagre previou comment side maltin one second rate excess viciou western creak groan tri put across central theme wild west tame kick asid steadi march time would like tradit butch cassidi sundanc kid lack film poignanc charm andrew mclaglen direct limp final minut real botch incomprehens strategi part hero charlton heston chri mitchum someon give holler explain set hillsid fire someth callou whole treatment rape scene woman reaction afterward certainli ring true coburn plenti nasti half breed escap convict reveng fellow escape underdevelop like bowl pin knock one one stori lurch forward michael park give one typic shifti letharg mumbl perform case appropri modern style sheriff symbol complac technolog progress bring'\n",
      " 'one expect star trek movi high art fan expect movi good best episod unfortun movi muddl implaus plot left cring far worst nine far movi even chanc watch well known charact interact anoth movi save movi includ goofi scene kirk spock mccoy yosemit br br would say movi worth rental hardli worth watch howev true fan need see movi rent movi way see even cabl channel avoid movi']\n"
     ]
    }
   ],
   "source": [
    "print(X)"
   ]
  },
  {
   "cell_type": "code",
   "execution_count": 16,
   "metadata": {},
   "outputs": [
    {
     "name": "stdout",
     "output_type": "stream",
     "text": [
      "[1 1 1 ... 0 0 0]\n"
     ]
    }
   ],
   "source": [
    "print(Y)"
   ]
  },
  {
   "cell_type": "code",
   "execution_count": 17,
   "metadata": {},
   "outputs": [
    {
     "name": "stdout",
     "output_type": "stream",
     "text": [
      "(50000, 4)\n"
     ]
    }
   ],
   "source": [
    "print(imdb_data.shape)"
   ]
  },
  {
   "cell_type": "markdown",
   "metadata": {},
   "source": [
    "Spliting Data to Training data"
   ]
  },
  {
   "cell_type": "code",
   "execution_count": 18,
   "metadata": {},
   "outputs": [],
   "source": [
    "X_train,X_test,Y_train, Y_test = train_test_split(X , Y, test_size = 0.2, stratify = Y, random_state = 69)"
   ]
  },
  {
   "cell_type": "code",
   "execution_count": 19,
   "metadata": {},
   "outputs": [
    {
     "name": "stdout",
     "output_type": "stream",
     "text": [
      "(50000,) (40000,) (10000,)\n"
     ]
    }
   ],
   "source": [
    "# X_train = np.expand_dims(X_train, -1)\n",
    "# X_test = np.expand_dims(X_test, -1)\n",
    "print(X.shape,X_train.shape,X_test.shape)"
   ]
  },
  {
   "cell_type": "code",
   "execution_count": 20,
   "metadata": {},
   "outputs": [
    {
     "name": "stdout",
     "output_type": "stream",
     "text": [
      "['origin care bear cousin saw origin film notic discrep cousin rais care bear rather meet later howev problem prefer treat film separ interpret babi ador fun watch play grow favourit swift heart rabbit villain delight menac shapeshift could empathis three children sinc never good sport either cree summer excel christi song sweet memor open heart love toy enjoy origin miss'\n",
      " 'expect cover art stori outlin indic anoth entertain bollywood indian product bewar music danc number song product valu exist brighten mood rather tire stori arrang marriag british indian cultur variat thrown written roopesh parekh script jump around topic worthi discuss cover routin avoid tactic harmag singh kalirai direct like traffic cop tri hold togeth dispar subplot point keyston cop tactic br br jimi chri bisson medic school student gay lover jack peter ash live jack obes alcohol loos moral aunt vanessa salli bank salli chubbi daughter hannah kati clayton jimi famili visit patel famili delhi bring beauti daughter simran jinder mahal england find husband jimi parent saeed jaffrey jamila massey grandmoth zohra sehgal decid simran girl jimi marri arrang engag wed custom indian way without consult jimi jimi discov plot spineless go along decis enrag jack infuri vanessa hannah tell littl lie simran jimi daughter wed jimi parent visit jimi hous discov drunken vanessa repuls eventu decid jimi happi go along fact vanessa given granddaught decid use marriag prepar wed jimi vanessa jimi convinc reluct vanessa go along idea long vanessa dress sari prepar wed jimi terrifi pleas parent includ jack best man wed truth come jimi surpris famili adapt jimi true self day save simpli truth br br cast cope silli bit nonsens rather well good perform chri bisson peter ash attract men play role well albeit without indic love relationship director seem terrifi show least suggest intimaci two men salli bank provid laugh vanessa rest cast repeat stereotyp role play countless time indian movi bad film moment superfici tire make us care charact'\n",
      " 'somehow somewher someplac gotta see film breath take aerial incred outstand perform highli gift actor think cirqu du soleil blow mind wait till see women importantli emot journey struggl jane dreya weber face univers theme mani women superbl direct film deal complex relationship hold readi let go masterpiec touch women men alik ned far director writer ridicul talent dreya weber star produc gut tell honestli sincer film hit big see howev loop becom one talk film'\n",
      " ...\n",
      " 'ride giant br br documentari trace histori surf follow three well made acclaim surfer film dana brown endless summer follow endless summer ii bruce brown dana son step liquid imax saw first other br br surf footag spectacular valu film maker histor perspect take us back sport origin almost hundr year ago show evolv present form includ extens interview lead person perform surfboard design chang time beach hawaii california frequent world class surfer incred adrenalin rush sport provid athlet live month time beach surf dawn dusk camp rudimentari bunk fish food went back board next day euphor way spend youth day br br see media discov promot sport slow start biggest boost sport believ movi gidget although suspect copyright issu may prevent credit beachboy surf song like surfer girl surf usa surf magazin encyclopedia surf knew tome mention contribut also see commentari pioneer sport famili current gener benefit origin one stori year old laird hamilton consid today greatest surfer bond earlier lead surfer introduc singl mom marri becom step dad br br rous music background contemporari music era accompani stori whet appetit wonder great ride'\n",
      " 'film absolut classic camp elvira mst classic everyon know stori scientist keep girlfriend head aliv lasagna pan basement cruis town tri find bodi check local chick final find real hourglass bodi scar face chick head top sever head make friend fail experi closet conehead come closet rip assist remain good arm right scientist earlier failur whole place burn br br movi scare us much kid friend go basement year see kid rank scariest movi time one number four one scari movi realli good origin haunt br br give movi seven rate tremend amount entertain valu offer eeri effect crappi product weird sexual angl scientist look bodi complet porno sound track scare hell innoc children ridicul aspect make prime materi watch talk laugh could watch film tonight enjoy rather go dentist watch chicago br br seven give entertain valu mere luck film cinema disast'\n",
      " 'saw film special screen work owen alik shahadah interest guy come probabl key independ african filmmak world talk black filmmak talk filmmak root cultur idea anyth testifi divers rang african theme film year later african issu idea fit mold show artist divers film african cast topic human topic us could relat love mild comedi kora tund jeged amaz realli art hous gem']\n"
     ]
    }
   ],
   "source": [
    "print(X_train)"
   ]
  },
  {
   "cell_type": "code",
   "execution_count": 21,
   "metadata": {},
   "outputs": [
    {
     "name": "stdout",
     "output_type": "stream",
     "text": [
      "['interest project could quit brilliant gather promin intern director allot minut second frame creat segment choic short explor global reverber without use spoiler would say ken loach piec jewel crown mira nair short segment india base true stori deserv made full featur film one also realiz watch short alejandro gonz lez rritu one best director world today simpli master medium also profound understand subject matter unfortun part made well youssef chahin segment egypt assum arab stanc self inflict collect guilt piec could potenti interest one fail miser chahin short poorli written badli execut least enough stand amongst superior chapter film despit imbal qualiti would still give film concept execut'\n",
      " 'seen movi puerto rico live puerto rico life shame admit pr live real chao right drug main reason shoot kill almost everi day peopl shoot anyon anytim anywher mani innoc live lost feel safe anymor addit call justic longer move truth right money influenc power ladron mentiroso base real deplor fact truli portray puerto rico three main problem drug relat kill money power manipul courtroom innoc peopl children corrupt even die ricardo wife poli true life plot award win direct brave enough present bad puerto rico beauti friendli countri live nightmar seem end recent copper wing award best director world cinema competit phoenix film festiv'\n",
      " 'quit possibl retard slasher ever realiz harsh film featur non stop imag dozen gorgeou ladi exhilar bodi aerob exercis take shower wander tight gym outfit prior horror film aerobicid minut promo video encourag use steroid silicon bodi stimul fit product leav footag hunki boy lift weight yummi girl wiggl butt rack insuffer tune probabl minut stori left plenti time improvis plot sadist killer slaughter young health freak big safeti pin yeah film open unintent hilari scene girl get fri electr sun bath devic sever year later peopl turn dead spa realli need experienc horror fanat rocket scientist figur link murder burn incid investig case seemingli braindead polic offic charl napier look alik beefcak privat detect get lucki bustiest beauti ever seen look credit name diann copeland appar anyth els apart turkey imbecil troma movi call surf nazi must die wast opportun may great actress sure two big advantag would help move upward show busi amount gore qualiti make effect noth special neither treat coupl bizarr stab pin barbecu human flesh plot twist near end ridicul predict time nobodi take film serious anymor anyway aerobicid k killer workout recommend case want switch brain function one night nevertheless feel like watch film actual would make terrif doubl featur death spa film lot sexi scarc dress babe film pretti dumb'\n",
      " ...\n",
      " 'go review film whole feel consid watch talk film talk part togeth watch one br br thank jon anderson steven soderbergh benicio del toro br br film refresh bold gritti true film hearken new style film make faux drama swell sound track faux documentari style clean shot attempt stick fact read jon anderson che guevara revolutionari life recent finish fidel auto biographi help abil soak film properli say jon anderson exhaust penultim wonder biographi given film proper histor back bone anderson consult film film make film true thing clean swell music slow motion photographi heighten drama even importantli fake documentari shaki camera squar shot straight forward shoot style type camera use make feel right jungl benicio del toro given full honor never doubt che throughout film wonder job respect ever peopl complain film deal slice life whole think one true beauti aspect film tri everyth tri tell stori person life multifacet tri tell hour one subtl beauti film resist temptat stay focus intent let us get feel che develop militarist mind forc around focus slice time battl throw batista che u n speech gorilla prepar bolivia motorcycl diari alreadi told young man side applaud soderbergh focus aspect instead keep refer jon anderson book film stay true weak link cast perform matt damon film load true life perform american matt damon play bolivian clunki stretch well much care cast site small complet forgiven realiti rest cast give notabl benicio del toro amaz job put film top list br br fact film went almost straight video say someth cold war ethic would never allow revolution cuba becom might still work keep stori quiet clandestin muffl effect properli done propaganda prejud topic br br must see film jon anderson che guevara revolutionari life must read want start get grasp earli effect global mind set regard expans intern polit financi chess move place unfair pressur south american neighbor effect foster'\n",
      " 'saw cabl back late big wrestl fan sinc saw vh sale bin bought br br start train wrestler air forc would alway go back watch see accur portray peopl involv wrestl famili friend understand us travel heartbreak etc henri winkler funni sometim sad watch nobodi els understand geniu creativ great way separ fonz charact play happi day time plu look cast william daniel knight rider polli holiday alic wrestler roddi piper chavo guerrero sr get chanc watch'\n",
      " 'write review watch sever month ago trailer look promis enough buy lame excus movi complet joke liter spit face real classic earli gener horror like texa chainsaw massacr even gall compar back cover art produc play brandon go flip burger serv greasi hamburg hell might even good either light bad bad bad big annoy film even see actor face sometim even rememb rest cast member sad realli bad never anyth impress make memor time wast review pleas stay far away pile junk even get cent buy piec gum least would keep entertain br br want good qualiti low budget fun far better check jeff hay film take talent make horror kid br br gave star cover art that thing worth like abut call film br br rick blalock']\n"
     ]
    }
   ],
   "source": [
    "print(X_test)"
   ]
  },
  {
   "cell_type": "code",
   "execution_count": 22,
   "metadata": {},
   "outputs": [],
   "source": [
    "#text to numerical\n",
    "\n",
    "vectorizer = TfidfVectorizer()\n",
    "# vectorizer = CountVectorizer()\n",
    "\n",
    "X_train = vectorizer.fit_transform(X_train)\n",
    "X_test = vectorizer.transform(X_test)\n"
   ]
  },
  {
   "cell_type": "code",
   "execution_count": 23,
   "metadata": {},
   "outputs": [
    {
     "name": "stdout",
     "output_type": "stream",
     "text": [
      "  (0, 35714)\t0.0885208837465531\n",
      "  (0, 17005)\t0.07254251668843316\n",
      "  (0, 55919)\t0.142050199115943\n",
      "  (0, 32325)\t0.059549972177273584\n",
      "  (0, 39293)\t0.08871430465366062\n",
      "  (0, 34772)\t0.11279156690173998\n",
      "  (0, 53519)\t0.11888797137294295\n",
      "  (0, 50957)\t0.09756883809925089\n",
      "  (0, 9858)\t0.16770306969686705\n",
      "  (0, 17738)\t0.08735143738621189\n",
      "  (0, 53017)\t0.1320763266571617\n",
      "  (0, 12081)\t0.23621200717653418\n",
      "  (0, 16503)\t0.09050934641453047\n",
      "  (0, 51568)\t0.13599871921127035\n",
      "  (0, 22070)\t0.04784724703400637\n",
      "  (0, 37770)\t0.06401350536006621\n",
      "  (0, 49845)\t0.08108076602027549\n",
      "  (0, 9645)\t0.1006938341836964\n",
      "  (0, 55056)\t0.08817983588161711\n",
      "  (0, 16842)\t0.20818371800217086\n",
      "  (0, 11763)\t0.06011552716201638\n",
      "  (0, 48948)\t0.23294368920814573\n",
      "  (0, 34785)\t0.14109884363212827\n",
      "  (0, 13607)\t0.12154737104848355\n",
      "  (0, 59269)\t0.11199191595300399\n",
      "  :\t:\n",
      "  (39999, 26510)\t0.10915728202544664\n",
      "  (39999, 2226)\t0.06833043202404626\n",
      "  (39999, 51294)\t0.07415190201287605\n",
      "  (39999, 5607)\t0.07807128436793781\n",
      "  (39999, 27374)\t0.09608213159856689\n",
      "  (39999, 61278)\t0.05366601143220842\n",
      "  (39999, 61306)\t0.06554701109986745\n",
      "  (39999, 48091)\t0.06961612677845222\n",
      "  (39999, 53921)\t0.15191053538485727\n",
      "  (39999, 1269)\t0.12891176926494707\n",
      "  (39999, 54812)\t0.0866767623933439\n",
      "  (39999, 58448)\t0.06681489263060753\n",
      "  (39999, 49435)\t0.05246899070455301\n",
      "  (39999, 8649)\t0.06086159852787891\n",
      "  (39999, 10824)\t0.053272580143137745\n",
      "  (39999, 25979)\t0.1430826921674037\n",
      "  (39999, 25427)\t0.0788993258932411\n",
      "  (39999, 55717)\t0.2372307400057664\n",
      "  (39999, 12496)\t0.09790037154109678\n",
      "  (39999, 2774)\t0.08315295126231811\n",
      "  (39999, 32325)\t0.05033817920423428\n",
      "  (39999, 11763)\t0.050816248414528475\n",
      "  (39999, 30803)\t0.07491272012124414\n",
      "  (39999, 18945)\t0.09415125346102625\n",
      "  (39999, 47546)\t0.06649529701470852\n"
     ]
    }
   ],
   "source": [
    "print(X_train)"
   ]
  },
  {
   "cell_type": "code",
   "execution_count": 24,
   "metadata": {},
   "outputs": [
    {
     "name": "stdout",
     "output_type": "stream",
     "text": [
      "  (0, 61990)\t0.14881465690288248\n",
      "  (0, 61439)\t0.06432260449949866\n",
      "  (0, 61358)\t0.0707971665665932\n",
      "  (0, 61306)\t0.05263200998755229\n",
      "  (0, 61034)\t0.0532308161470748\n",
      "  (0, 60277)\t0.03644198021544022\n",
      "  (0, 60011)\t0.03325983754534929\n",
      "  (0, 58462)\t0.04745539251310748\n",
      "  (0, 57686)\t0.0646861144183291\n",
      "  (0, 57496)\t0.06006693905657475\n",
      "  (0, 56489)\t0.05912303421915275\n",
      "  (0, 55507)\t0.06848726789169338\n",
      "  (0, 53164)\t0.08813465935821033\n",
      "  (0, 52769)\t0.07276509536644235\n",
      "  (0, 52373)\t0.035939983007797875\n",
      "  (0, 52228)\t0.045736947811419265\n",
      "  (0, 51842)\t0.06630781957478267\n",
      "  (0, 51841)\t0.12382708191546474\n",
      "  (0, 51518)\t0.07301085760243159\n",
      "  (0, 49825)\t0.061682185441840606\n",
      "  (0, 49396)\t0.2475348519917935\n",
      "  (0, 48420)\t0.07045699327875696\n",
      "  (0, 48365)\t0.28894884483606836\n",
      "  (0, 48284)\t0.05887272605828273\n",
      "  (0, 47567)\t0.041567399493017326\n",
      "  :\t:\n",
      "  (9999, 10967)\t0.0626103331169206\n",
      "  (9999, 10937)\t0.0815289920705121\n",
      "  (9999, 10218)\t0.06943809089227317\n",
      "  (9999, 9395)\t0.08334852719844522\n",
      "  (9999, 9101)\t0.12869598146966257\n",
      "  (9999, 8969)\t0.1303638771679747\n",
      "  (9999, 8649)\t0.05638704543736534\n",
      "  (9999, 7993)\t0.06385115050916845\n",
      "  (9999, 7763)\t0.16588764889699645\n",
      "  (9999, 7590)\t0.155859306547349\n",
      "  (9999, 7381)\t0.07178678462516243\n",
      "  (9999, 6737)\t0.1476918190917525\n",
      "  (9999, 6643)\t0.1770178264189431\n",
      "  (9999, 5687)\t0.19144214111489388\n",
      "  (9999, 5325)\t0.061130126513212195\n",
      "  (9999, 5158)\t0.051530003744537034\n",
      "  (9999, 3712)\t0.18823053884925225\n",
      "  (9999, 3658)\t0.054773502995311876\n",
      "  (9999, 3465)\t0.06406433115043163\n",
      "  (9999, 2774)\t0.1540790697086794\n",
      "  (9999, 2226)\t0.06330676926814166\n",
      "  (9999, 2043)\t0.07992422798999783\n",
      "  (9999, 842)\t0.08223621830600752\n",
      "  (9999, 427)\t0.04981506930683269\n",
      "  (9999, 248)\t0.18499240298319106\n"
     ]
    }
   ],
   "source": [
    "print(X_test)"
   ]
  },
  {
   "cell_type": "code",
   "execution_count": 25,
   "metadata": {},
   "outputs": [
    {
     "name": "stdout",
     "output_type": "stream",
     "text": [
      "(10000, 62556)\n",
      "(40000, 62556)\n",
      "  (0, 61990)\t0.14881465690288248\n",
      "  (0, 61439)\t0.06432260449949866\n",
      "  (0, 61358)\t0.0707971665665932\n",
      "  (0, 61306)\t0.05263200998755229\n",
      "  (0, 61034)\t0.0532308161470748\n",
      "  (0, 60277)\t0.03644198021544022\n",
      "  (0, 60011)\t0.03325983754534929\n",
      "  (0, 58462)\t0.04745539251310748\n",
      "  (0, 57686)\t0.0646861144183291\n",
      "  (0, 57496)\t0.06006693905657475\n",
      "  (0, 56489)\t0.05912303421915275\n",
      "  (0, 55507)\t0.06848726789169338\n",
      "  (0, 53164)\t0.08813465935821033\n",
      "  (0, 52769)\t0.07276509536644235\n",
      "  (0, 52373)\t0.035939983007797875\n",
      "  (0, 52228)\t0.045736947811419265\n",
      "  (0, 51842)\t0.06630781957478267\n",
      "  (0, 51841)\t0.12382708191546474\n",
      "  (0, 51518)\t0.07301085760243159\n",
      "  (0, 49825)\t0.061682185441840606\n",
      "  (0, 49396)\t0.2475348519917935\n",
      "  (0, 48420)\t0.07045699327875696\n",
      "  (0, 48365)\t0.28894884483606836\n",
      "  (0, 48284)\t0.05887272605828273\n",
      "  (0, 47567)\t0.041567399493017326\n",
      "  :\t:\n",
      "  (9999, 10967)\t0.0626103331169206\n",
      "  (9999, 10937)\t0.0815289920705121\n",
      "  (9999, 10218)\t0.06943809089227317\n",
      "  (9999, 9395)\t0.08334852719844522\n",
      "  (9999, 9101)\t0.12869598146966257\n",
      "  (9999, 8969)\t0.1303638771679747\n",
      "  (9999, 8649)\t0.05638704543736534\n",
      "  (9999, 7993)\t0.06385115050916845\n",
      "  (9999, 7763)\t0.16588764889699645\n",
      "  (9999, 7590)\t0.155859306547349\n",
      "  (9999, 7381)\t0.07178678462516243\n",
      "  (9999, 6737)\t0.1476918190917525\n",
      "  (9999, 6643)\t0.1770178264189431\n",
      "  (9999, 5687)\t0.19144214111489388\n",
      "  (9999, 5325)\t0.061130126513212195\n",
      "  (9999, 5158)\t0.051530003744537034\n",
      "  (9999, 3712)\t0.18823053884925225\n",
      "  (9999, 3658)\t0.054773502995311876\n",
      "  (9999, 3465)\t0.06406433115043163\n",
      "  (9999, 2774)\t0.1540790697086794\n",
      "  (9999, 2226)\t0.06330676926814166\n",
      "  (9999, 2043)\t0.07992422798999783\n",
      "  (9999, 842)\t0.08223621830600752\n",
      "  (9999, 427)\t0.04981506930683269\n",
      "  (9999, 248)\t0.18499240298319106\n"
     ]
    }
   ],
   "source": [
    "print(X_test.shape)\n",
    "print(X_train.shape)\n",
    "\n",
    "print(X_test)"
   ]
  },
  {
   "cell_type": "markdown",
   "metadata": {},
   "source": [
    "ML Model"
   ]
  },
  {
   "cell_type": "code",
   "execution_count": 26,
   "metadata": {},
   "outputs": [],
   "source": [
    "model = GradientBoostingClassifier(n_estimators=100, learning_rate=1.0, max_depth=1, random_state=69)"
   ]
  },
  {
   "cell_type": "code",
   "execution_count": 27,
   "metadata": {},
   "outputs": [
    {
     "data": {
      "text/html": [
       "<style>#sk-container-id-1 {\n",
       "  /* Definition of color scheme common for light and dark mode */\n",
       "  --sklearn-color-text: black;\n",
       "  --sklearn-color-line: gray;\n",
       "  /* Definition of color scheme for unfitted estimators */\n",
       "  --sklearn-color-unfitted-level-0: #fff5e6;\n",
       "  --sklearn-color-unfitted-level-1: #f6e4d2;\n",
       "  --sklearn-color-unfitted-level-2: #ffe0b3;\n",
       "  --sklearn-color-unfitted-level-3: chocolate;\n",
       "  /* Definition of color scheme for fitted estimators */\n",
       "  --sklearn-color-fitted-level-0: #f0f8ff;\n",
       "  --sklearn-color-fitted-level-1: #d4ebff;\n",
       "  --sklearn-color-fitted-level-2: #b3dbfd;\n",
       "  --sklearn-color-fitted-level-3: cornflowerblue;\n",
       "\n",
       "  /* Specific color for light theme */\n",
       "  --sklearn-color-text-on-default-background: var(--sg-text-color, var(--theme-code-foreground, var(--jp-content-font-color1, black)));\n",
       "  --sklearn-color-background: var(--sg-background-color, var(--theme-background, var(--jp-layout-color0, white)));\n",
       "  --sklearn-color-border-box: var(--sg-text-color, var(--theme-code-foreground, var(--jp-content-font-color1, black)));\n",
       "  --sklearn-color-icon: #696969;\n",
       "\n",
       "  @media (prefers-color-scheme: dark) {\n",
       "    /* Redefinition of color scheme for dark theme */\n",
       "    --sklearn-color-text-on-default-background: var(--sg-text-color, var(--theme-code-foreground, var(--jp-content-font-color1, white)));\n",
       "    --sklearn-color-background: var(--sg-background-color, var(--theme-background, var(--jp-layout-color0, #111)));\n",
       "    --sklearn-color-border-box: var(--sg-text-color, var(--theme-code-foreground, var(--jp-content-font-color1, white)));\n",
       "    --sklearn-color-icon: #878787;\n",
       "  }\n",
       "}\n",
       "\n",
       "#sk-container-id-1 {\n",
       "  color: var(--sklearn-color-text);\n",
       "}\n",
       "\n",
       "#sk-container-id-1 pre {\n",
       "  padding: 0;\n",
       "}\n",
       "\n",
       "#sk-container-id-1 input.sk-hidden--visually {\n",
       "  border: 0;\n",
       "  clip: rect(1px 1px 1px 1px);\n",
       "  clip: rect(1px, 1px, 1px, 1px);\n",
       "  height: 1px;\n",
       "  margin: -1px;\n",
       "  overflow: hidden;\n",
       "  padding: 0;\n",
       "  position: absolute;\n",
       "  width: 1px;\n",
       "}\n",
       "\n",
       "#sk-container-id-1 div.sk-dashed-wrapped {\n",
       "  border: 1px dashed var(--sklearn-color-line);\n",
       "  margin: 0 0.4em 0.5em 0.4em;\n",
       "  box-sizing: border-box;\n",
       "  padding-bottom: 0.4em;\n",
       "  background-color: var(--sklearn-color-background);\n",
       "}\n",
       "\n",
       "#sk-container-id-1 div.sk-container {\n",
       "  /* jupyter's `normalize.less` sets `[hidden] { display: none; }`\n",
       "     but bootstrap.min.css set `[hidden] { display: none !important; }`\n",
       "     so we also need the `!important` here to be able to override the\n",
       "     default hidden behavior on the sphinx rendered scikit-learn.org.\n",
       "     See: https://github.com/scikit-learn/scikit-learn/issues/21755 */\n",
       "  display: inline-block !important;\n",
       "  position: relative;\n",
       "}\n",
       "\n",
       "#sk-container-id-1 div.sk-text-repr-fallback {\n",
       "  display: none;\n",
       "}\n",
       "\n",
       "div.sk-parallel-item,\n",
       "div.sk-serial,\n",
       "div.sk-item {\n",
       "  /* draw centered vertical line to link estimators */\n",
       "  background-image: linear-gradient(var(--sklearn-color-text-on-default-background), var(--sklearn-color-text-on-default-background));\n",
       "  background-size: 2px 100%;\n",
       "  background-repeat: no-repeat;\n",
       "  background-position: center center;\n",
       "}\n",
       "\n",
       "/* Parallel-specific style estimator block */\n",
       "\n",
       "#sk-container-id-1 div.sk-parallel-item::after {\n",
       "  content: \"\";\n",
       "  width: 100%;\n",
       "  border-bottom: 2px solid var(--sklearn-color-text-on-default-background);\n",
       "  flex-grow: 1;\n",
       "}\n",
       "\n",
       "#sk-container-id-1 div.sk-parallel {\n",
       "  display: flex;\n",
       "  align-items: stretch;\n",
       "  justify-content: center;\n",
       "  background-color: var(--sklearn-color-background);\n",
       "  position: relative;\n",
       "}\n",
       "\n",
       "#sk-container-id-1 div.sk-parallel-item {\n",
       "  display: flex;\n",
       "  flex-direction: column;\n",
       "}\n",
       "\n",
       "#sk-container-id-1 div.sk-parallel-item:first-child::after {\n",
       "  align-self: flex-end;\n",
       "  width: 50%;\n",
       "}\n",
       "\n",
       "#sk-container-id-1 div.sk-parallel-item:last-child::after {\n",
       "  align-self: flex-start;\n",
       "  width: 50%;\n",
       "}\n",
       "\n",
       "#sk-container-id-1 div.sk-parallel-item:only-child::after {\n",
       "  width: 0;\n",
       "}\n",
       "\n",
       "/* Serial-specific style estimator block */\n",
       "\n",
       "#sk-container-id-1 div.sk-serial {\n",
       "  display: flex;\n",
       "  flex-direction: column;\n",
       "  align-items: center;\n",
       "  background-color: var(--sklearn-color-background);\n",
       "  padding-right: 1em;\n",
       "  padding-left: 1em;\n",
       "}\n",
       "\n",
       "\n",
       "/* Toggleable style: style used for estimator/Pipeline/ColumnTransformer box that is\n",
       "clickable and can be expanded/collapsed.\n",
       "- Pipeline and ColumnTransformer use this feature and define the default style\n",
       "- Estimators will overwrite some part of the style using the `sk-estimator` class\n",
       "*/\n",
       "\n",
       "/* Pipeline and ColumnTransformer style (default) */\n",
       "\n",
       "#sk-container-id-1 div.sk-toggleable {\n",
       "  /* Default theme specific background. It is overwritten whether we have a\n",
       "  specific estimator or a Pipeline/ColumnTransformer */\n",
       "  background-color: var(--sklearn-color-background);\n",
       "}\n",
       "\n",
       "/* Toggleable label */\n",
       "#sk-container-id-1 label.sk-toggleable__label {\n",
       "  cursor: pointer;\n",
       "  display: block;\n",
       "  width: 100%;\n",
       "  margin-bottom: 0;\n",
       "  padding: 0.5em;\n",
       "  box-sizing: border-box;\n",
       "  text-align: center;\n",
       "}\n",
       "\n",
       "#sk-container-id-1 label.sk-toggleable__label-arrow:before {\n",
       "  /* Arrow on the left of the label */\n",
       "  content: \"▸\";\n",
       "  float: left;\n",
       "  margin-right: 0.25em;\n",
       "  color: var(--sklearn-color-icon);\n",
       "}\n",
       "\n",
       "#sk-container-id-1 label.sk-toggleable__label-arrow:hover:before {\n",
       "  color: var(--sklearn-color-text);\n",
       "}\n",
       "\n",
       "/* Toggleable content - dropdown */\n",
       "\n",
       "#sk-container-id-1 div.sk-toggleable__content {\n",
       "  max-height: 0;\n",
       "  max-width: 0;\n",
       "  overflow: hidden;\n",
       "  text-align: left;\n",
       "  /* unfitted */\n",
       "  background-color: var(--sklearn-color-unfitted-level-0);\n",
       "}\n",
       "\n",
       "#sk-container-id-1 div.sk-toggleable__content.fitted {\n",
       "  /* fitted */\n",
       "  background-color: var(--sklearn-color-fitted-level-0);\n",
       "}\n",
       "\n",
       "#sk-container-id-1 div.sk-toggleable__content pre {\n",
       "  margin: 0.2em;\n",
       "  border-radius: 0.25em;\n",
       "  color: var(--sklearn-color-text);\n",
       "  /* unfitted */\n",
       "  background-color: var(--sklearn-color-unfitted-level-0);\n",
       "}\n",
       "\n",
       "#sk-container-id-1 div.sk-toggleable__content.fitted pre {\n",
       "  /* unfitted */\n",
       "  background-color: var(--sklearn-color-fitted-level-0);\n",
       "}\n",
       "\n",
       "#sk-container-id-1 input.sk-toggleable__control:checked~div.sk-toggleable__content {\n",
       "  /* Expand drop-down */\n",
       "  max-height: 200px;\n",
       "  max-width: 100%;\n",
       "  overflow: auto;\n",
       "}\n",
       "\n",
       "#sk-container-id-1 input.sk-toggleable__control:checked~label.sk-toggleable__label-arrow:before {\n",
       "  content: \"▾\";\n",
       "}\n",
       "\n",
       "/* Pipeline/ColumnTransformer-specific style */\n",
       "\n",
       "#sk-container-id-1 div.sk-label input.sk-toggleable__control:checked~label.sk-toggleable__label {\n",
       "  color: var(--sklearn-color-text);\n",
       "  background-color: var(--sklearn-color-unfitted-level-2);\n",
       "}\n",
       "\n",
       "#sk-container-id-1 div.sk-label.fitted input.sk-toggleable__control:checked~label.sk-toggleable__label {\n",
       "  background-color: var(--sklearn-color-fitted-level-2);\n",
       "}\n",
       "\n",
       "/* Estimator-specific style */\n",
       "\n",
       "/* Colorize estimator box */\n",
       "#sk-container-id-1 div.sk-estimator input.sk-toggleable__control:checked~label.sk-toggleable__label {\n",
       "  /* unfitted */\n",
       "  background-color: var(--sklearn-color-unfitted-level-2);\n",
       "}\n",
       "\n",
       "#sk-container-id-1 div.sk-estimator.fitted input.sk-toggleable__control:checked~label.sk-toggleable__label {\n",
       "  /* fitted */\n",
       "  background-color: var(--sklearn-color-fitted-level-2);\n",
       "}\n",
       "\n",
       "#sk-container-id-1 div.sk-label label.sk-toggleable__label,\n",
       "#sk-container-id-1 div.sk-label label {\n",
       "  /* The background is the default theme color */\n",
       "  color: var(--sklearn-color-text-on-default-background);\n",
       "}\n",
       "\n",
       "/* On hover, darken the color of the background */\n",
       "#sk-container-id-1 div.sk-label:hover label.sk-toggleable__label {\n",
       "  color: var(--sklearn-color-text);\n",
       "  background-color: var(--sklearn-color-unfitted-level-2);\n",
       "}\n",
       "\n",
       "/* Label box, darken color on hover, fitted */\n",
       "#sk-container-id-1 div.sk-label.fitted:hover label.sk-toggleable__label.fitted {\n",
       "  color: var(--sklearn-color-text);\n",
       "  background-color: var(--sklearn-color-fitted-level-2);\n",
       "}\n",
       "\n",
       "/* Estimator label */\n",
       "\n",
       "#sk-container-id-1 div.sk-label label {\n",
       "  font-family: monospace;\n",
       "  font-weight: bold;\n",
       "  display: inline-block;\n",
       "  line-height: 1.2em;\n",
       "}\n",
       "\n",
       "#sk-container-id-1 div.sk-label-container {\n",
       "  text-align: center;\n",
       "}\n",
       "\n",
       "/* Estimator-specific */\n",
       "#sk-container-id-1 div.sk-estimator {\n",
       "  font-family: monospace;\n",
       "  border: 1px dotted var(--sklearn-color-border-box);\n",
       "  border-radius: 0.25em;\n",
       "  box-sizing: border-box;\n",
       "  margin-bottom: 0.5em;\n",
       "  /* unfitted */\n",
       "  background-color: var(--sklearn-color-unfitted-level-0);\n",
       "}\n",
       "\n",
       "#sk-container-id-1 div.sk-estimator.fitted {\n",
       "  /* fitted */\n",
       "  background-color: var(--sklearn-color-fitted-level-0);\n",
       "}\n",
       "\n",
       "/* on hover */\n",
       "#sk-container-id-1 div.sk-estimator:hover {\n",
       "  /* unfitted */\n",
       "  background-color: var(--sklearn-color-unfitted-level-2);\n",
       "}\n",
       "\n",
       "#sk-container-id-1 div.sk-estimator.fitted:hover {\n",
       "  /* fitted */\n",
       "  background-color: var(--sklearn-color-fitted-level-2);\n",
       "}\n",
       "\n",
       "/* Specification for estimator info (e.g. \"i\" and \"?\") */\n",
       "\n",
       "/* Common style for \"i\" and \"?\" */\n",
       "\n",
       ".sk-estimator-doc-link,\n",
       "a:link.sk-estimator-doc-link,\n",
       "a:visited.sk-estimator-doc-link {\n",
       "  float: right;\n",
       "  font-size: smaller;\n",
       "  line-height: 1em;\n",
       "  font-family: monospace;\n",
       "  background-color: var(--sklearn-color-background);\n",
       "  border-radius: 1em;\n",
       "  height: 1em;\n",
       "  width: 1em;\n",
       "  text-decoration: none !important;\n",
       "  margin-left: 1ex;\n",
       "  /* unfitted */\n",
       "  border: var(--sklearn-color-unfitted-level-1) 1pt solid;\n",
       "  color: var(--sklearn-color-unfitted-level-1);\n",
       "}\n",
       "\n",
       ".sk-estimator-doc-link.fitted,\n",
       "a:link.sk-estimator-doc-link.fitted,\n",
       "a:visited.sk-estimator-doc-link.fitted {\n",
       "  /* fitted */\n",
       "  border: var(--sklearn-color-fitted-level-1) 1pt solid;\n",
       "  color: var(--sklearn-color-fitted-level-1);\n",
       "}\n",
       "\n",
       "/* On hover */\n",
       "div.sk-estimator:hover .sk-estimator-doc-link:hover,\n",
       ".sk-estimator-doc-link:hover,\n",
       "div.sk-label-container:hover .sk-estimator-doc-link:hover,\n",
       ".sk-estimator-doc-link:hover {\n",
       "  /* unfitted */\n",
       "  background-color: var(--sklearn-color-unfitted-level-3);\n",
       "  color: var(--sklearn-color-background);\n",
       "  text-decoration: none;\n",
       "}\n",
       "\n",
       "div.sk-estimator.fitted:hover .sk-estimator-doc-link.fitted:hover,\n",
       ".sk-estimator-doc-link.fitted:hover,\n",
       "div.sk-label-container:hover .sk-estimator-doc-link.fitted:hover,\n",
       ".sk-estimator-doc-link.fitted:hover {\n",
       "  /* fitted */\n",
       "  background-color: var(--sklearn-color-fitted-level-3);\n",
       "  color: var(--sklearn-color-background);\n",
       "  text-decoration: none;\n",
       "}\n",
       "\n",
       "/* Span, style for the box shown on hovering the info icon */\n",
       ".sk-estimator-doc-link span {\n",
       "  display: none;\n",
       "  z-index: 9999;\n",
       "  position: relative;\n",
       "  font-weight: normal;\n",
       "  right: .2ex;\n",
       "  padding: .5ex;\n",
       "  margin: .5ex;\n",
       "  width: min-content;\n",
       "  min-width: 20ex;\n",
       "  max-width: 50ex;\n",
       "  color: var(--sklearn-color-text);\n",
       "  box-shadow: 2pt 2pt 4pt #999;\n",
       "  /* unfitted */\n",
       "  background: var(--sklearn-color-unfitted-level-0);\n",
       "  border: .5pt solid var(--sklearn-color-unfitted-level-3);\n",
       "}\n",
       "\n",
       ".sk-estimator-doc-link.fitted span {\n",
       "  /* fitted */\n",
       "  background: var(--sklearn-color-fitted-level-0);\n",
       "  border: var(--sklearn-color-fitted-level-3);\n",
       "}\n",
       "\n",
       ".sk-estimator-doc-link:hover span {\n",
       "  display: block;\n",
       "}\n",
       "\n",
       "/* \"?\"-specific style due to the `<a>` HTML tag */\n",
       "\n",
       "#sk-container-id-1 a.estimator_doc_link {\n",
       "  float: right;\n",
       "  font-size: 1rem;\n",
       "  line-height: 1em;\n",
       "  font-family: monospace;\n",
       "  background-color: var(--sklearn-color-background);\n",
       "  border-radius: 1rem;\n",
       "  height: 1rem;\n",
       "  width: 1rem;\n",
       "  text-decoration: none;\n",
       "  /* unfitted */\n",
       "  color: var(--sklearn-color-unfitted-level-1);\n",
       "  border: var(--sklearn-color-unfitted-level-1) 1pt solid;\n",
       "}\n",
       "\n",
       "#sk-container-id-1 a.estimator_doc_link.fitted {\n",
       "  /* fitted */\n",
       "  border: var(--sklearn-color-fitted-level-1) 1pt solid;\n",
       "  color: var(--sklearn-color-fitted-level-1);\n",
       "}\n",
       "\n",
       "/* On hover */\n",
       "#sk-container-id-1 a.estimator_doc_link:hover {\n",
       "  /* unfitted */\n",
       "  background-color: var(--sklearn-color-unfitted-level-3);\n",
       "  color: var(--sklearn-color-background);\n",
       "  text-decoration: none;\n",
       "}\n",
       "\n",
       "#sk-container-id-1 a.estimator_doc_link.fitted:hover {\n",
       "  /* fitted */\n",
       "  background-color: var(--sklearn-color-fitted-level-3);\n",
       "}\n",
       "</style><div id=\"sk-container-id-1\" class=\"sk-top-container\"><div class=\"sk-text-repr-fallback\"><pre>GradientBoostingClassifier(learning_rate=1.0, max_depth=1, random_state=69)</pre><b>In a Jupyter environment, please rerun this cell to show the HTML representation or trust the notebook. <br />On GitHub, the HTML representation is unable to render, please try loading this page with nbviewer.org.</b></div><div class=\"sk-container\" hidden><div class=\"sk-item\"><div class=\"sk-estimator fitted sk-toggleable\"><input class=\"sk-toggleable__control sk-hidden--visually\" id=\"sk-estimator-id-1\" type=\"checkbox\" checked><label for=\"sk-estimator-id-1\" class=\"sk-toggleable__label fitted sk-toggleable__label-arrow fitted\">&nbsp;&nbsp;GradientBoostingClassifier<a class=\"sk-estimator-doc-link fitted\" rel=\"noreferrer\" target=\"_blank\" href=\"https://scikit-learn.org/1.4/modules/generated/sklearn.ensemble.GradientBoostingClassifier.html\">?<span>Documentation for GradientBoostingClassifier</span></a><span class=\"sk-estimator-doc-link fitted\">i<span>Fitted</span></span></label><div class=\"sk-toggleable__content fitted\"><pre>GradientBoostingClassifier(learning_rate=1.0, max_depth=1, random_state=69)</pre></div> </div></div></div></div>"
      ],
      "text/plain": [
       "GradientBoostingClassifier(learning_rate=1.0, max_depth=1, random_state=69)"
      ]
     },
     "execution_count": 27,
     "metadata": {},
     "output_type": "execute_result"
    }
   ],
   "source": [
    "model.fit(X_train, Y_train)"
   ]
  },
  {
   "cell_type": "markdown",
   "metadata": {},
   "source": [
    "Evaluation"
   ]
  },
  {
   "cell_type": "code",
   "execution_count": 28,
   "metadata": {},
   "outputs": [],
   "source": [
    "X_train_prediction = model.predict(X_train)\n",
    "training_data_accuracy = accuracy_score(Y_train, X_train_prediction)"
   ]
  },
  {
   "cell_type": "code",
   "execution_count": 29,
   "metadata": {},
   "outputs": [
    {
     "name": "stdout",
     "output_type": "stream",
     "text": [
      "Accuracy score on the training data:  0.84465\n"
     ]
    }
   ],
   "source": [
    "print(\"Accuracy score on the training data: \", training_data_accuracy) "
   ]
  },
  {
   "cell_type": "code",
   "execution_count": 30,
   "metadata": {},
   "outputs": [],
   "source": [
    "X_test_prediction = model.predict(X_test)\n",
    "testing_data_accuracy = accuracy_score(Y_test, X_test_prediction)"
   ]
  },
  {
   "cell_type": "code",
   "execution_count": 31,
   "metadata": {},
   "outputs": [
    {
     "name": "stdout",
     "output_type": "stream",
     "text": [
      "Accuracy score on the testing data:  0.8344\n"
     ]
    }
   ],
   "source": [
    "print(\"Accuracy score on the testing data: \", testing_data_accuracy) "
   ]
  },
  {
   "cell_type": "markdown",
   "metadata": {},
   "source": [
    "Saving the Model"
   ]
  },
  {
   "cell_type": "code",
   "execution_count": 32,
   "metadata": {},
   "outputs": [],
   "source": [
    "filename = \"trained_model.sav\"\n",
    "pickle.dump(model, open(filename, 'wb'))"
   ]
  },
  {
   "cell_type": "markdown",
   "metadata": {},
   "source": [
    "Using Model\n"
   ]
  },
  {
   "cell_type": "code",
   "execution_count": 33,
   "metadata": {},
   "outputs": [],
   "source": [
    "loaded_model = pickle.load(open(filename, 'rb'))"
   ]
  },
  {
   "cell_type": "code",
   "execution_count": 34,
   "metadata": {},
   "outputs": [
    {
     "name": "stdout",
     "output_type": "stream",
     "text": [
      "0\n",
      "[0]\n"
     ]
    }
   ],
   "source": [
    "idx = 10\n",
    "review = X_test[idx]\n",
    "\n",
    "prediction = loaded_model.predict(review)\n",
    "\n",
    "print(Y_test[idx])\n",
    "print(prediction)"
   ]
  },
  {
   "cell_type": "code",
   "execution_count": 35,
   "metadata": {},
   "outputs": [
    {
     "name": "stdout",
     "output_type": "stream",
     "text": [
      "[1]\n"
     ]
    }
   ],
   "source": [
    "review = \"This movie was not shit. In fact it was amazing\"\n",
    "review = stemming(review)\n",
    "review = [review]\n",
    "review = vectorizer.transform(review)\n",
    "\n",
    "prediction = loaded_model.predict(review)\n",
    "\n",
    "print(prediction)"
   ]
  },
  {
   "cell_type": "code",
   "execution_count": 36,
   "metadata": {},
   "outputs": [
    {
     "name": "stdout",
     "output_type": "stream",
     "text": [
      "[[4136  864]\n",
      " [ 792 4208]]\n"
     ]
    }
   ],
   "source": [
    "cm = confusion_matrix(Y_test, X_test_prediction)\n",
    "print(cm)\n"
   ]
  },
  {
   "cell_type": "code",
   "execution_count": 37,
   "metadata": {},
   "outputs": [
    {
     "data": {
      "image/png": "[encoded data removed]",
      "text/plain": [
       "<Figure size 640x480 with 2 Axes>"
      ]
     },
     "metadata": {},
     "output_type": "display_data"
    }
   ],
   "source": [
    "cm_display = ConfusionMatrixDisplay(confusion_matrix = cm, display_labels = model.classes_)\n",
    "cm_display.plot()\n",
    "plt.show()"
   ]
  },
  {
   "cell_type": "code",
   "execution_count": 38,
   "metadata": {},
   "outputs": [
    {
     "name": "stdout",
     "output_type": "stream",
     "text": [
      "Accuracy :  0.8344\n",
      "Precision :  0.8296529968454258\n",
      "Recall :  0.8416\n",
      "Error :  0.1656\n"
     ]
    }
   ],
   "source": [
    "TN = cm[0][0]\n",
    "FP = cm[0][1]\n",
    "FN = cm[1][0]\n",
    "TP = cm[1][1]\n",
    "\n",
    "print(\"Accuracy : \", accuracy_score(Y_test, X_test_prediction))\n",
    "# print(\"Accuracy : \", (TN + TP)/ (FN + FP + TN + TP))\n",
    "print(\"Precision : \", precision_score(Y_test, X_test_prediction))\n",
    "# print(\"Precision : \", TP / (FP + TP))\n",
    "print(\"Recall : \", recall_score(Y_test, X_test_prediction))\n",
    "# print(\"Recall : \", TP / (FN+TP))\n",
    "print(\"Error : \", (FN + FP) / (FN + FP + TN + TP))\n"
   ]
  },
  {
   "cell_type": "code",
   "execution_count": 39,
   "metadata": {},
   "outputs": [
    {
     "data": {
      "image/png": "[encoded data removed]",
      "text/plain": [
       "<Figure size 640x480 with 1 Axes>"
      ]
     },
     "metadata": {},
     "output_type": "display_data"
    }
   ],
   "source": [
    "costs = -model.decision_function(X_train) * Y_train + np.log(1 + np.exp(-model.decision_function(X_train)))\n",
    "\n",
    "# plt.plot(costs)\n",
    "# plt.xlabel('Iteration/Epoch')\n",
    "# plt.ylabel('Cost (Negative Log-likelihood)')\n",
    "# plt.title('Change of Error for Logistic Regression Model')\n",
    "# plt.show()\n",
    "\n",
    "plt.scatter(range(len(costs)), costs)  # Use range for x-axis (iterations)\n",
    "plt.xlabel('Iteration/Epoch')\n",
    "plt.ylabel('Cost (Negative Log-likelihood)')\n",
    "plt.title('Change of Error for Logistic Regression Model')\n",
    "plt.show()\n"
   ]
  }
 ],
 "metadata": {
  "kernelspec": {
   "display_name": "Python 3",
   "language": "python",
   "name": "python3"
  },
  "language_info": {
   "codemirror_mode": {
    "name": "ipython",
    "version": 3
   },
   "file_extension": ".py",
   "mimetype": "text/x-python",
   "name": "python",
   "nbconvert_exporter": "python",
   "pygments_lexer": "ipython3",
   "version": "3.12.2"
  }
 },
 "nbformat": 4,
 "nbformat_minor": 2
}
